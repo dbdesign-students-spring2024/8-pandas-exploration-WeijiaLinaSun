{
 "cells": [
  {
   "cell_type": "markdown",
   "metadata": {},
   "source": [
    "# pandas exploration\n",
    "In this assignment you will select a data set and do some munging and analysis of it using `pandas`, Jupyter Notebooks, and associated Python-centric data science tools."
   ]
  },
  {
   "cell_type": "markdown",
   "metadata": {},
   "source": [
    "## Set up environment"
   ]
  },
  {
   "cell_type": "markdown",
   "metadata": {},
   "source": [
    "The following lines ensure that `numpy` and `pandas` are installed in the notebook environment.  Depending on your system, this may not be necessary and may be removed."
   ]
  },
  {
   "cell_type": "code",
   "execution_count": 1,
   "metadata": {},
   "outputs": [
    {
     "name": "stdout",
     "output_type": "stream",
     "text": [
      "Requirement already satisfied: numpy in /Users/sunweijia/anaconda3/lib/python3.10/site-packages (1.23.5)\n",
      "Requirement already satisfied: pandas in /Users/sunweijia/anaconda3/lib/python3.10/site-packages (1.5.3)\n",
      "Requirement already satisfied: python-dateutil>=2.8.1 in /Users/sunweijia/anaconda3/lib/python3.10/site-packages (from pandas) (2.8.2)\n",
      "Requirement already satisfied: pytz>=2020.1 in /Users/sunweijia/anaconda3/lib/python3.10/site-packages (from pandas) (2022.7)\n",
      "Requirement already satisfied: numpy>=1.21.0 in /Users/sunweijia/anaconda3/lib/python3.10/site-packages (from pandas) (1.23.5)\n",
      "Requirement already satisfied: six>=1.5 in /Users/sunweijia/anaconda3/lib/python3.10/site-packages (from python-dateutil>=2.8.1->pandas) (1.16.0)\n"
     ]
    }
   ],
   "source": [
    "!pip install numpy\n",
    "!pip install pandas"
   ]
  },
  {
   "cell_type": "markdown",
   "metadata": {},
   "source": [
    "Import the core data science libraries:"
   ]
  },
  {
   "cell_type": "code",
   "execution_count": 2,
   "metadata": {},
   "outputs": [],
   "source": [
    "%matplotlib inline\n",
    "import matplotlib.pyplot as plt\n",
    "import numpy as np\n",
    "import pandas as pd"
   ]
  },
  {
   "cell_type": "markdown",
   "metadata": {},
   "source": [
    "## Import the raw data\n",
    "In this section, you will import the raw data into a `pandas` DataFrame."
   ]
  },
  {
   "cell_type": "code",
   "execution_count": 4,
   "metadata": {},
   "outputs": [],
   "source": [
    "# place your code into this Code cell\n",
    "df = pd.read_csv('data/data.csv')"
   ]
  },
  {
   "cell_type": "markdown",
   "metadata": {},
   "source": [
    "## Data inspection\n",
    "In this section, you will show enough of your data for a viewer to get a general sense of how the data is structured and any unique features of it.  Complete each of the indicated tasks in a Code cell, making sure to include a Markdown cell above each Code cell that explains what is being shown by the code.  \n",
    "- Show 5 rows, selected at random, from the data set.\n",
    "- Show each of the column names and their data types.\n",
    "- Show any unique features of your chosen data set.\n",
    "\n",
    "Feel free to add as many additional cells as you need to help explain the raw data."
   ]
  },
  {
   "cell_type": "code",
   "execution_count": 5,
   "metadata": {},
   "outputs": [
    {
     "data": {
      "text/html": [
       "<div>\n",
       "<style scoped>\n",
       "    .dataframe tbody tr th:only-of-type {\n",
       "        vertical-align: middle;\n",
       "    }\n",
       "\n",
       "    .dataframe tbody tr th {\n",
       "        vertical-align: top;\n",
       "    }\n",
       "\n",
       "    .dataframe thead th {\n",
       "        text-align: right;\n",
       "    }\n",
       "</style>\n",
       "<table border=\"1\" class=\"dataframe\">\n",
       "  <thead>\n",
       "    <tr style=\"text-align: right;\">\n",
       "      <th></th>\n",
       "      <th>ARREST_KEY</th>\n",
       "      <th>ARREST_DATE</th>\n",
       "      <th>PD_CD</th>\n",
       "      <th>PD_DESC</th>\n",
       "      <th>KY_CD</th>\n",
       "      <th>OFNS_DESC</th>\n",
       "      <th>LAW_CODE</th>\n",
       "      <th>LAW_CAT_CD</th>\n",
       "      <th>ARREST_BORO</th>\n",
       "      <th>ARREST_PRECINCT</th>\n",
       "      <th>JURISDICTION_CODE</th>\n",
       "      <th>AGE_GROUP</th>\n",
       "      <th>PERP_SEX</th>\n",
       "      <th>PERP_RACE</th>\n",
       "      <th>X_COORD_CD</th>\n",
       "      <th>Y_COORD_CD</th>\n",
       "      <th>Latitude</th>\n",
       "      <th>Longitude</th>\n",
       "      <th>New Georeferenced Column</th>\n",
       "    </tr>\n",
       "  </thead>\n",
       "  <tbody>\n",
       "    <tr>\n",
       "      <th>44676</th>\n",
       "      <td>284234595</td>\n",
       "      <td>03/23/2024</td>\n",
       "      <td>922.0</td>\n",
       "      <td>TRAFFIC,UNCLASSIFIED MISDEMEAN</td>\n",
       "      <td>348.0</td>\n",
       "      <td>VEHICLE AND TRAFFIC LAWS</td>\n",
       "      <td>VTL05110MU</td>\n",
       "      <td>M</td>\n",
       "      <td>Q</td>\n",
       "      <td>113</td>\n",
       "      <td>0</td>\n",
       "      <td>25-44</td>\n",
       "      <td>M</td>\n",
       "      <td>BLACK</td>\n",
       "      <td>1043932</td>\n",
       "      <td>184871</td>\n",
       "      <td>40.673904</td>\n",
       "      <td>-73.784844</td>\n",
       "      <td>POINT (-73.78484373470152 40.67390372239954)</td>\n",
       "    </tr>\n",
       "    <tr>\n",
       "      <th>15256</th>\n",
       "      <td>280000184</td>\n",
       "      <td>01/04/2024</td>\n",
       "      <td>905.0</td>\n",
       "      <td>INTOXICATED DRIVING,ALCOHOL</td>\n",
       "      <td>347.0</td>\n",
       "      <td>INTOXICATED &amp; IMPAIRED DRIVING</td>\n",
       "      <td>VTL1192000</td>\n",
       "      <td>M</td>\n",
       "      <td>Q</td>\n",
       "      <td>109</td>\n",
       "      <td>0</td>\n",
       "      <td>25-44</td>\n",
       "      <td>M</td>\n",
       "      <td>WHITE HISPANIC</td>\n",
       "      <td>1028736</td>\n",
       "      <td>225533</td>\n",
       "      <td>40.785600</td>\n",
       "      <td>-73.839357</td>\n",
       "      <td>POINT (-73.83935702185012 40.78560016886259)</td>\n",
       "    </tr>\n",
       "    <tr>\n",
       "      <th>43842</th>\n",
       "      <td>281414939</td>\n",
       "      <td>01/31/2024</td>\n",
       "      <td>339.0</td>\n",
       "      <td>LARCENY,PETIT FROM OPEN AREAS,</td>\n",
       "      <td>341.0</td>\n",
       "      <td>PETIT LARCENY</td>\n",
       "      <td>PL 1552500</td>\n",
       "      <td>M</td>\n",
       "      <td>K</td>\n",
       "      <td>73</td>\n",
       "      <td>0</td>\n",
       "      <td>45-64</td>\n",
       "      <td>M</td>\n",
       "      <td>BLACK</td>\n",
       "      <td>1010782</td>\n",
       "      <td>185568</td>\n",
       "      <td>40.675980</td>\n",
       "      <td>-73.904348</td>\n",
       "      <td>POINT (-73.904348 40.67598)</td>\n",
       "    </tr>\n",
       "    <tr>\n",
       "      <th>5496</th>\n",
       "      <td>281164499</td>\n",
       "      <td>01/26/2024</td>\n",
       "      <td>748.0</td>\n",
       "      <td>CONTEMPT,CRIMINAL</td>\n",
       "      <td>359.0</td>\n",
       "      <td>OFFENSES AGAINST PUBLIC ADMINI</td>\n",
       "      <td>PL 2155003</td>\n",
       "      <td>M</td>\n",
       "      <td>M</td>\n",
       "      <td>25</td>\n",
       "      <td>0</td>\n",
       "      <td>25-44</td>\n",
       "      <td>M</td>\n",
       "      <td>BLACK</td>\n",
       "      <td>1000581</td>\n",
       "      <td>231070</td>\n",
       "      <td>40.800896</td>\n",
       "      <td>-73.941011</td>\n",
       "      <td>POINT (-73.941011 40.800896)</td>\n",
       "    </tr>\n",
       "    <tr>\n",
       "      <th>9189</th>\n",
       "      <td>280145895</td>\n",
       "      <td>01/08/2024</td>\n",
       "      <td>339.0</td>\n",
       "      <td>LARCENY,PETIT FROM OPEN AREAS,</td>\n",
       "      <td>341.0</td>\n",
       "      <td>PETIT LARCENY</td>\n",
       "      <td>PL 1552500</td>\n",
       "      <td>M</td>\n",
       "      <td>M</td>\n",
       "      <td>1</td>\n",
       "      <td>0</td>\n",
       "      <td>45-64</td>\n",
       "      <td>M</td>\n",
       "      <td>WHITE HISPANIC</td>\n",
       "      <td>980603</td>\n",
       "      <td>195695</td>\n",
       "      <td>40.703815</td>\n",
       "      <td>-74.013151</td>\n",
       "      <td>POINT (-74.013151 40.703815)</td>\n",
       "    </tr>\n",
       "  </tbody>\n",
       "</table>\n",
       "</div>"
      ],
      "text/plain": [
       "       ARREST_KEY ARREST_DATE  PD_CD                         PD_DESC  KY_CD  \\\n",
       "44676   284234595  03/23/2024  922.0  TRAFFIC,UNCLASSIFIED MISDEMEAN  348.0   \n",
       "15256   280000184  01/04/2024  905.0     INTOXICATED DRIVING,ALCOHOL  347.0   \n",
       "43842   281414939  01/31/2024  339.0  LARCENY,PETIT FROM OPEN AREAS,  341.0   \n",
       "5496    281164499  01/26/2024  748.0               CONTEMPT,CRIMINAL  359.0   \n",
       "9189    280145895  01/08/2024  339.0  LARCENY,PETIT FROM OPEN AREAS,  341.0   \n",
       "\n",
       "                            OFNS_DESC    LAW_CODE LAW_CAT_CD ARREST_BORO  \\\n",
       "44676        VEHICLE AND TRAFFIC LAWS  VTL05110MU          M           Q   \n",
       "15256  INTOXICATED & IMPAIRED DRIVING  VTL1192000          M           Q   \n",
       "43842                   PETIT LARCENY  PL 1552500          M           K   \n",
       "5496   OFFENSES AGAINST PUBLIC ADMINI  PL 2155003          M           M   \n",
       "9189                    PETIT LARCENY  PL 1552500          M           M   \n",
       "\n",
       "       ARREST_PRECINCT  JURISDICTION_CODE AGE_GROUP PERP_SEX       PERP_RACE  \\\n",
       "44676              113                  0     25-44        M           BLACK   \n",
       "15256              109                  0     25-44        M  WHITE HISPANIC   \n",
       "43842               73                  0     45-64        M           BLACK   \n",
       "5496                25                  0     25-44        M           BLACK   \n",
       "9189                 1                  0     45-64        M  WHITE HISPANIC   \n",
       "\n",
       "       X_COORD_CD  Y_COORD_CD   Latitude  Longitude  \\\n",
       "44676     1043932      184871  40.673904 -73.784844   \n",
       "15256     1028736      225533  40.785600 -73.839357   \n",
       "43842     1010782      185568  40.675980 -73.904348   \n",
       "5496      1000581      231070  40.800896 -73.941011   \n",
       "9189       980603      195695  40.703815 -74.013151   \n",
       "\n",
       "                           New Georeferenced Column  \n",
       "44676  POINT (-73.78484373470152 40.67390372239954)  \n",
       "15256  POINT (-73.83935702185012 40.78560016886259)  \n",
       "43842                   POINT (-73.904348 40.67598)  \n",
       "5496                   POINT (-73.941011 40.800896)  \n",
       "9189                   POINT (-74.013151 40.703815)  "
      ]
     },
     "execution_count": 5,
     "metadata": {},
     "output_type": "execute_result"
    }
   ],
   "source": [
    "# Show 5 rows, selected at random, from the data set.\n",
    "df.sample(5)"
   ]
  },
  {
   "cell_type": "code",
   "execution_count": 6,
   "metadata": {},
   "outputs": [
    {
     "data": {
      "text/plain": [
       "ARREST_KEY                    int64\n",
       "ARREST_DATE                  object\n",
       "PD_CD                       float64\n",
       "PD_DESC                      object\n",
       "KY_CD                       float64\n",
       "OFNS_DESC                    object\n",
       "LAW_CODE                     object\n",
       "LAW_CAT_CD                   object\n",
       "ARREST_BORO                  object\n",
       "ARREST_PRECINCT               int64\n",
       "JURISDICTION_CODE             int64\n",
       "AGE_GROUP                    object\n",
       "PERP_SEX                     object\n",
       "PERP_RACE                    object\n",
       "X_COORD_CD                    int64\n",
       "Y_COORD_CD                    int64\n",
       "Latitude                    float64\n",
       "Longitude                   float64\n",
       "New Georeferenced Column     object\n",
       "dtype: object"
      ]
     },
     "execution_count": 6,
     "metadata": {},
     "output_type": "execute_result"
    }
   ],
   "source": [
    "# Show each of the column names and their data types.\n",
    "df.dtypes"
   ]
  },
  {
   "cell_type": "code",
   "execution_count": 7,
   "metadata": {},
   "outputs": [
    {
     "data": {
      "text/plain": [
       "ARREST_KEY                  63621\n",
       "ARREST_DATE                    91\n",
       "PD_CD                         231\n",
       "PD_DESC                       221\n",
       "KY_CD                          66\n",
       "OFNS_DESC                      62\n",
       "LAW_CODE                      770\n",
       "LAW_CAT_CD                      6\n",
       "ARREST_BORO                     5\n",
       "ARREST_PRECINCT                77\n",
       "JURISDICTION_CODE              25\n",
       "AGE_GROUP                       5\n",
       "PERP_SEX                        2\n",
       "PERP_RACE                       7\n",
       "X_COORD_CD                  15785\n",
       "Y_COORD_CD                  16393\n",
       "Latitude                    17663\n",
       "Longitude                   17629\n",
       "New Georeferenced Column    17879\n",
       "dtype: int64"
      ]
     },
     "execution_count": 7,
     "metadata": {},
     "output_type": "execute_result"
    }
   ],
   "source": [
    "# Show any unique features of your chosen data set.\n",
    "df.nunique()"
   ]
  },
  {
   "cell_type": "code",
   "execution_count": 8,
   "metadata": {},
   "outputs": [
    {
     "data": {
      "text/plain": [
       "ARREST_KEY                    0\n",
       "ARREST_DATE                   0\n",
       "PD_CD                         2\n",
       "PD_DESC                       0\n",
       "KY_CD                         9\n",
       "OFNS_DESC                     0\n",
       "LAW_CODE                      0\n",
       "LAW_CAT_CD                  402\n",
       "ARREST_BORO                   0\n",
       "ARREST_PRECINCT               0\n",
       "JURISDICTION_CODE             0\n",
       "AGE_GROUP                     0\n",
       "PERP_SEX                      0\n",
       "PERP_RACE                     0\n",
       "X_COORD_CD                    0\n",
       "Y_COORD_CD                    0\n",
       "Latitude                      0\n",
       "Longitude                     0\n",
       "New Georeferenced Column      0\n",
       "dtype: int64"
      ]
     },
     "execution_count": 8,
     "metadata": {},
     "output_type": "execute_result"
    }
   ],
   "source": [
    "# Check for missing values in each column\n",
    "df.isnull().sum()"
   ]
  },
  {
   "cell_type": "markdown",
   "metadata": {},
   "source": [
    "## Data munging\n",
    "Place your **data munging** code and documentation within this section.  \n",
    "- Keep each of your Code cells short and focused on a single task.  \n",
    "- Include a Markdown cell above each code cell that describes what task the code within the code cell is performing.\n",
    "- Make as many code cells as you need to complete the munging - a few have been created for you to start with.\n",
    "- Display 5 sample rows of the modified data after each transformation so a viewer can see how the data has changed.\n",
    "\n",
    "**Note**: If you believe that your data set does not require any munging, please explain in detail.  Create Markdown cells that explain your thinking and create Code cells that show any specific structures of the data you refer to in your explanation."
   ]
  },
  {
   "cell_type": "markdown",
   "metadata": {},
   "source": [
    "### 1. Suppose we only care about the missing values in 'Column1' and 'Column2'."
   ]
  },
  {
   "cell_type": "code",
   "execution_count": 11,
   "metadata": {},
   "outputs": [
    {
     "data": {
      "text/html": [
       "<div>\n",
       "<style scoped>\n",
       "    .dataframe tbody tr th:only-of-type {\n",
       "        vertical-align: middle;\n",
       "    }\n",
       "\n",
       "    .dataframe tbody tr th {\n",
       "        vertical-align: top;\n",
       "    }\n",
       "\n",
       "    .dataframe thead th {\n",
       "        text-align: right;\n",
       "    }\n",
       "</style>\n",
       "<table border=\"1\" class=\"dataframe\">\n",
       "  <thead>\n",
       "    <tr style=\"text-align: right;\">\n",
       "      <th></th>\n",
       "      <th>ARREST_KEY</th>\n",
       "      <th>ARREST_DATE</th>\n",
       "      <th>PD_CD</th>\n",
       "      <th>PD_DESC</th>\n",
       "      <th>KY_CD</th>\n",
       "      <th>OFNS_DESC</th>\n",
       "      <th>LAW_CODE</th>\n",
       "      <th>LAW_CAT_CD</th>\n",
       "      <th>ARREST_BORO</th>\n",
       "      <th>ARREST_PRECINCT</th>\n",
       "      <th>JURISDICTION_CODE</th>\n",
       "      <th>AGE_GROUP</th>\n",
       "      <th>PERP_SEX</th>\n",
       "      <th>PERP_RACE</th>\n",
       "      <th>X_COORD_CD</th>\n",
       "      <th>Y_COORD_CD</th>\n",
       "      <th>Latitude</th>\n",
       "      <th>Longitude</th>\n",
       "      <th>New Georeferenced Column</th>\n",
       "    </tr>\n",
       "  </thead>\n",
       "  <tbody>\n",
       "    <tr>\n",
       "      <th>0</th>\n",
       "      <td>280255493</td>\n",
       "      <td>01/10/2024</td>\n",
       "      <td>397.0</td>\n",
       "      <td>ROBBERY,OPEN AREA UNCLASSIFIED</td>\n",
       "      <td>105.0</td>\n",
       "      <td>ROBBERY</td>\n",
       "      <td>PL 1601001</td>\n",
       "      <td>F</td>\n",
       "      <td>M</td>\n",
       "      <td>26</td>\n",
       "      <td>0</td>\n",
       "      <td>&lt;18</td>\n",
       "      <td>M</td>\n",
       "      <td>BLACK</td>\n",
       "      <td>996342</td>\n",
       "      <td>236149</td>\n",
       "      <td>40.814845</td>\n",
       "      <td>-73.956312</td>\n",
       "      <td>POINT (-73.956312 40.814845)</td>\n",
       "    </tr>\n",
       "    <tr>\n",
       "      <th>1</th>\n",
       "      <td>279805419</td>\n",
       "      <td>01/02/2024</td>\n",
       "      <td>157.0</td>\n",
       "      <td>RAPE 1</td>\n",
       "      <td>104.0</td>\n",
       "      <td>RAPE</td>\n",
       "      <td>PL 1303501</td>\n",
       "      <td>F</td>\n",
       "      <td>K</td>\n",
       "      <td>77</td>\n",
       "      <td>0</td>\n",
       "      <td>25-44</td>\n",
       "      <td>M</td>\n",
       "      <td>WHITE HISPANIC</td>\n",
       "      <td>1003509</td>\n",
       "      <td>185018</td>\n",
       "      <td>40.674496</td>\n",
       "      <td>-73.930571</td>\n",
       "      <td>POINT (-73.9305713255961 40.6744956865259)</td>\n",
       "    </tr>\n",
       "    <tr>\n",
       "      <th>2</th>\n",
       "      <td>279895750</td>\n",
       "      <td>01/03/2024</td>\n",
       "      <td>101.0</td>\n",
       "      <td>ASSAULT 3</td>\n",
       "      <td>344.0</td>\n",
       "      <td>ASSAULT 3 &amp; RELATED OFFENSES</td>\n",
       "      <td>PL 1200001</td>\n",
       "      <td>M</td>\n",
       "      <td>Q</td>\n",
       "      <td>106</td>\n",
       "      <td>0</td>\n",
       "      <td>65+</td>\n",
       "      <td>F</td>\n",
       "      <td>WHITE</td>\n",
       "      <td>1026836</td>\n",
       "      <td>180689</td>\n",
       "      <td>40.662526</td>\n",
       "      <td>-73.846499</td>\n",
       "      <td>POINT (-73.846499 40.662526)</td>\n",
       "    </tr>\n",
       "    <tr>\n",
       "      <th>3</th>\n",
       "      <td>280809090</td>\n",
       "      <td>01/19/2024</td>\n",
       "      <td>511.0</td>\n",
       "      <td>CONTROLLED SUBSTANCE, POSSESSI</td>\n",
       "      <td>235.0</td>\n",
       "      <td>DANGEROUS DRUGS</td>\n",
       "      <td>PL 2200300</td>\n",
       "      <td>M</td>\n",
       "      <td>B</td>\n",
       "      <td>49</td>\n",
       "      <td>0</td>\n",
       "      <td>45-64</td>\n",
       "      <td>M</td>\n",
       "      <td>BLACK</td>\n",
       "      <td>1027430</td>\n",
       "      <td>251104</td>\n",
       "      <td>40.855793</td>\n",
       "      <td>-73.843908</td>\n",
       "      <td>POINT (-73.843908 40.855793)</td>\n",
       "    </tr>\n",
       "    <tr>\n",
       "      <th>4</th>\n",
       "      <td>280357135</td>\n",
       "      <td>01/11/2024</td>\n",
       "      <td>109.0</td>\n",
       "      <td>ASSAULT 2,1,UNCLASSIFIED</td>\n",
       "      <td>106.0</td>\n",
       "      <td>FELONY ASSAULT</td>\n",
       "      <td>PL 1200502</td>\n",
       "      <td>F</td>\n",
       "      <td>K</td>\n",
       "      <td>81</td>\n",
       "      <td>2</td>\n",
       "      <td>25-44</td>\n",
       "      <td>F</td>\n",
       "      <td>BLACK</td>\n",
       "      <td>1002457</td>\n",
       "      <td>192292</td>\n",
       "      <td>40.694456</td>\n",
       "      <td>-73.934343</td>\n",
       "      <td>POINT (-73.934343 40.694456)</td>\n",
       "    </tr>\n",
       "  </tbody>\n",
       "</table>\n",
       "</div>"
      ],
      "text/plain": [
       "   ARREST_KEY ARREST_DATE  PD_CD                         PD_DESC  KY_CD  \\\n",
       "0   280255493  01/10/2024  397.0  ROBBERY,OPEN AREA UNCLASSIFIED  105.0   \n",
       "1   279805419  01/02/2024  157.0                          RAPE 1  104.0   \n",
       "2   279895750  01/03/2024  101.0                       ASSAULT 3  344.0   \n",
       "3   280809090  01/19/2024  511.0  CONTROLLED SUBSTANCE, POSSESSI  235.0   \n",
       "4   280357135  01/11/2024  109.0        ASSAULT 2,1,UNCLASSIFIED  106.0   \n",
       "\n",
       "                      OFNS_DESC    LAW_CODE LAW_CAT_CD ARREST_BORO  \\\n",
       "0                       ROBBERY  PL 1601001          F           M   \n",
       "1                          RAPE  PL 1303501          F           K   \n",
       "2  ASSAULT 3 & RELATED OFFENSES  PL 1200001          M           Q   \n",
       "3               DANGEROUS DRUGS  PL 2200300          M           B   \n",
       "4                FELONY ASSAULT  PL 1200502          F           K   \n",
       "\n",
       "   ARREST_PRECINCT  JURISDICTION_CODE AGE_GROUP PERP_SEX       PERP_RACE  \\\n",
       "0               26                  0       <18        M           BLACK   \n",
       "1               77                  0     25-44        M  WHITE HISPANIC   \n",
       "2              106                  0       65+        F           WHITE   \n",
       "3               49                  0     45-64        M           BLACK   \n",
       "4               81                  2     25-44        F           BLACK   \n",
       "\n",
       "   X_COORD_CD  Y_COORD_CD   Latitude  Longitude  \\\n",
       "0      996342      236149  40.814845 -73.956312   \n",
       "1     1003509      185018  40.674496 -73.930571   \n",
       "2     1026836      180689  40.662526 -73.846499   \n",
       "3     1027430      251104  40.855793 -73.843908   \n",
       "4     1002457      192292  40.694456 -73.934343   \n",
       "\n",
       "                     New Georeferenced Column  \n",
       "0                POINT (-73.956312 40.814845)  \n",
       "1  POINT (-73.9305713255961 40.6744956865259)  \n",
       "2                POINT (-73.846499 40.662526)  \n",
       "3                POINT (-73.843908 40.855793)  \n",
       "4                POINT (-73.934343 40.694456)  "
      ]
     },
     "execution_count": 11,
     "metadata": {},
     "output_type": "execute_result"
    }
   ],
   "source": [
    "df = df.dropna(subset=['PD_CD', 'KY_CD', 'LAW_CAT_CD'])\n",
    "df.head(5)"
   ]
  },
  {
   "cell_type": "markdown",
   "metadata": {},
   "source": [
    "### 2. Change the AGE_GROUP column from the previous '<18', '18-24', '25-44', '45-64', '65+' Convert to 0, 1, 2, 3, 4 labels"
   ]
  },
  {
   "cell_type": "code",
   "execution_count": 12,
   "metadata": {},
   "outputs": [
    {
     "data": {
      "text/html": [
       "<div>\n",
       "<style scoped>\n",
       "    .dataframe tbody tr th:only-of-type {\n",
       "        vertical-align: middle;\n",
       "    }\n",
       "\n",
       "    .dataframe tbody tr th {\n",
       "        vertical-align: top;\n",
       "    }\n",
       "\n",
       "    .dataframe thead th {\n",
       "        text-align: right;\n",
       "    }\n",
       "</style>\n",
       "<table border=\"1\" class=\"dataframe\">\n",
       "  <thead>\n",
       "    <tr style=\"text-align: right;\">\n",
       "      <th></th>\n",
       "      <th>ARREST_KEY</th>\n",
       "      <th>ARREST_DATE</th>\n",
       "      <th>PD_CD</th>\n",
       "      <th>PD_DESC</th>\n",
       "      <th>KY_CD</th>\n",
       "      <th>OFNS_DESC</th>\n",
       "      <th>LAW_CODE</th>\n",
       "      <th>LAW_CAT_CD</th>\n",
       "      <th>ARREST_BORO</th>\n",
       "      <th>ARREST_PRECINCT</th>\n",
       "      <th>JURISDICTION_CODE</th>\n",
       "      <th>AGE_GROUP</th>\n",
       "      <th>PERP_SEX</th>\n",
       "      <th>PERP_RACE</th>\n",
       "      <th>X_COORD_CD</th>\n",
       "      <th>Y_COORD_CD</th>\n",
       "      <th>Latitude</th>\n",
       "      <th>Longitude</th>\n",
       "      <th>New Georeferenced Column</th>\n",
       "      <th>AGE_GROUP_ENCODED</th>\n",
       "    </tr>\n",
       "  </thead>\n",
       "  <tbody>\n",
       "    <tr>\n",
       "      <th>0</th>\n",
       "      <td>280255493</td>\n",
       "      <td>01/10/2024</td>\n",
       "      <td>397.0</td>\n",
       "      <td>ROBBERY,OPEN AREA UNCLASSIFIED</td>\n",
       "      <td>105.0</td>\n",
       "      <td>ROBBERY</td>\n",
       "      <td>PL 1601001</td>\n",
       "      <td>F</td>\n",
       "      <td>M</td>\n",
       "      <td>26</td>\n",
       "      <td>0</td>\n",
       "      <td>&lt;18</td>\n",
       "      <td>M</td>\n",
       "      <td>BLACK</td>\n",
       "      <td>996342</td>\n",
       "      <td>236149</td>\n",
       "      <td>40.814845</td>\n",
       "      <td>-73.956312</td>\n",
       "      <td>POINT (-73.956312 40.814845)</td>\n",
       "      <td>0</td>\n",
       "    </tr>\n",
       "    <tr>\n",
       "      <th>1</th>\n",
       "      <td>279805419</td>\n",
       "      <td>01/02/2024</td>\n",
       "      <td>157.0</td>\n",
       "      <td>RAPE 1</td>\n",
       "      <td>104.0</td>\n",
       "      <td>RAPE</td>\n",
       "      <td>PL 1303501</td>\n",
       "      <td>F</td>\n",
       "      <td>K</td>\n",
       "      <td>77</td>\n",
       "      <td>0</td>\n",
       "      <td>25-44</td>\n",
       "      <td>M</td>\n",
       "      <td>WHITE HISPANIC</td>\n",
       "      <td>1003509</td>\n",
       "      <td>185018</td>\n",
       "      <td>40.674496</td>\n",
       "      <td>-73.930571</td>\n",
       "      <td>POINT (-73.9305713255961 40.6744956865259)</td>\n",
       "      <td>2</td>\n",
       "    </tr>\n",
       "    <tr>\n",
       "      <th>2</th>\n",
       "      <td>279895750</td>\n",
       "      <td>01/03/2024</td>\n",
       "      <td>101.0</td>\n",
       "      <td>ASSAULT 3</td>\n",
       "      <td>344.0</td>\n",
       "      <td>ASSAULT 3 &amp; RELATED OFFENSES</td>\n",
       "      <td>PL 1200001</td>\n",
       "      <td>M</td>\n",
       "      <td>Q</td>\n",
       "      <td>106</td>\n",
       "      <td>0</td>\n",
       "      <td>65+</td>\n",
       "      <td>F</td>\n",
       "      <td>WHITE</td>\n",
       "      <td>1026836</td>\n",
       "      <td>180689</td>\n",
       "      <td>40.662526</td>\n",
       "      <td>-73.846499</td>\n",
       "      <td>POINT (-73.846499 40.662526)</td>\n",
       "      <td>4</td>\n",
       "    </tr>\n",
       "    <tr>\n",
       "      <th>3</th>\n",
       "      <td>280809090</td>\n",
       "      <td>01/19/2024</td>\n",
       "      <td>511.0</td>\n",
       "      <td>CONTROLLED SUBSTANCE, POSSESSI</td>\n",
       "      <td>235.0</td>\n",
       "      <td>DANGEROUS DRUGS</td>\n",
       "      <td>PL 2200300</td>\n",
       "      <td>M</td>\n",
       "      <td>B</td>\n",
       "      <td>49</td>\n",
       "      <td>0</td>\n",
       "      <td>45-64</td>\n",
       "      <td>M</td>\n",
       "      <td>BLACK</td>\n",
       "      <td>1027430</td>\n",
       "      <td>251104</td>\n",
       "      <td>40.855793</td>\n",
       "      <td>-73.843908</td>\n",
       "      <td>POINT (-73.843908 40.855793)</td>\n",
       "      <td>3</td>\n",
       "    </tr>\n",
       "    <tr>\n",
       "      <th>4</th>\n",
       "      <td>280357135</td>\n",
       "      <td>01/11/2024</td>\n",
       "      <td>109.0</td>\n",
       "      <td>ASSAULT 2,1,UNCLASSIFIED</td>\n",
       "      <td>106.0</td>\n",
       "      <td>FELONY ASSAULT</td>\n",
       "      <td>PL 1200502</td>\n",
       "      <td>F</td>\n",
       "      <td>K</td>\n",
       "      <td>81</td>\n",
       "      <td>2</td>\n",
       "      <td>25-44</td>\n",
       "      <td>F</td>\n",
       "      <td>BLACK</td>\n",
       "      <td>1002457</td>\n",
       "      <td>192292</td>\n",
       "      <td>40.694456</td>\n",
       "      <td>-73.934343</td>\n",
       "      <td>POINT (-73.934343 40.694456)</td>\n",
       "      <td>2</td>\n",
       "    </tr>\n",
       "  </tbody>\n",
       "</table>\n",
       "</div>"
      ],
      "text/plain": [
       "   ARREST_KEY ARREST_DATE  PD_CD                         PD_DESC  KY_CD  \\\n",
       "0   280255493  01/10/2024  397.0  ROBBERY,OPEN AREA UNCLASSIFIED  105.0   \n",
       "1   279805419  01/02/2024  157.0                          RAPE 1  104.0   \n",
       "2   279895750  01/03/2024  101.0                       ASSAULT 3  344.0   \n",
       "3   280809090  01/19/2024  511.0  CONTROLLED SUBSTANCE, POSSESSI  235.0   \n",
       "4   280357135  01/11/2024  109.0        ASSAULT 2,1,UNCLASSIFIED  106.0   \n",
       "\n",
       "                      OFNS_DESC    LAW_CODE LAW_CAT_CD ARREST_BORO  \\\n",
       "0                       ROBBERY  PL 1601001          F           M   \n",
       "1                          RAPE  PL 1303501          F           K   \n",
       "2  ASSAULT 3 & RELATED OFFENSES  PL 1200001          M           Q   \n",
       "3               DANGEROUS DRUGS  PL 2200300          M           B   \n",
       "4                FELONY ASSAULT  PL 1200502          F           K   \n",
       "\n",
       "   ARREST_PRECINCT  JURISDICTION_CODE AGE_GROUP PERP_SEX       PERP_RACE  \\\n",
       "0               26                  0       <18        M           BLACK   \n",
       "1               77                  0     25-44        M  WHITE HISPANIC   \n",
       "2              106                  0       65+        F           WHITE   \n",
       "3               49                  0     45-64        M           BLACK   \n",
       "4               81                  2     25-44        F           BLACK   \n",
       "\n",
       "   X_COORD_CD  Y_COORD_CD   Latitude  Longitude  \\\n",
       "0      996342      236149  40.814845 -73.956312   \n",
       "1     1003509      185018  40.674496 -73.930571   \n",
       "2     1026836      180689  40.662526 -73.846499   \n",
       "3     1027430      251104  40.855793 -73.843908   \n",
       "4     1002457      192292  40.694456 -73.934343   \n",
       "\n",
       "                     New Georeferenced Column  AGE_GROUP_ENCODED  \n",
       "0                POINT (-73.956312 40.814845)                  0  \n",
       "1  POINT (-73.9305713255961 40.6744956865259)                  2  \n",
       "2                POINT (-73.846499 40.662526)                  4  \n",
       "3                POINT (-73.843908 40.855793)                  3  \n",
       "4                POINT (-73.934343 40.694456)                  2  "
      ]
     },
     "execution_count": 12,
     "metadata": {},
     "output_type": "execute_result"
    }
   ],
   "source": [
    "age_group_mapping = {\n",
    "    '<18': 0,\n",
    "    '18-24': 1,\n",
    "    '25-44': 2,\n",
    "    '45-64': 3,\n",
    "    '65+': 4\n",
    "}\n",
    "\n",
    "df['AGE_GROUP_ENCODED'] = df['AGE_GROUP'].map(age_group_mapping)\n",
    "df.head()"
   ]
  },
  {
   "cell_type": "markdown",
   "metadata": {},
   "source": [
    "### 3. Filter LAW_CAT_CD columns to keep only rows with values 'V', 'M', 'F'."
   ]
  },
  {
   "cell_type": "code",
   "execution_count": 24,
   "metadata": {},
   "outputs": [
    {
     "data": {
      "text/html": [
       "<div>\n",
       "<style scoped>\n",
       "    .dataframe tbody tr th:only-of-type {\n",
       "        vertical-align: middle;\n",
       "    }\n",
       "\n",
       "    .dataframe tbody tr th {\n",
       "        vertical-align: top;\n",
       "    }\n",
       "\n",
       "    .dataframe thead th {\n",
       "        text-align: right;\n",
       "    }\n",
       "</style>\n",
       "<table border=\"1\" class=\"dataframe\">\n",
       "  <thead>\n",
       "    <tr style=\"text-align: right;\">\n",
       "      <th></th>\n",
       "      <th>ARREST_KEY</th>\n",
       "      <th>ARREST_DATE</th>\n",
       "      <th>PD_CD</th>\n",
       "      <th>PD_DESC</th>\n",
       "      <th>KY_CD</th>\n",
       "      <th>OFNS_DESC</th>\n",
       "      <th>LAW_CODE</th>\n",
       "      <th>LAW_CAT_CD</th>\n",
       "      <th>ARREST_BORO</th>\n",
       "      <th>ARREST_PRECINCT</th>\n",
       "      <th>JURISDICTION_CODE</th>\n",
       "      <th>AGE_GROUP</th>\n",
       "      <th>PERP_SEX</th>\n",
       "      <th>PERP_RACE</th>\n",
       "      <th>X_COORD_CD</th>\n",
       "      <th>Y_COORD_CD</th>\n",
       "      <th>Latitude</th>\n",
       "      <th>Longitude</th>\n",
       "      <th>New Georeferenced Column</th>\n",
       "      <th>AGE_GROUP_ENCODED</th>\n",
       "    </tr>\n",
       "  </thead>\n",
       "  <tbody>\n",
       "    <tr>\n",
       "      <th>0</th>\n",
       "      <td>280255493</td>\n",
       "      <td>01/10/2024</td>\n",
       "      <td>397.0</td>\n",
       "      <td>ROBBERY,OPEN AREA UNCLASSIFIED</td>\n",
       "      <td>105.0</td>\n",
       "      <td>ROBBERY</td>\n",
       "      <td>PL 1601001</td>\n",
       "      <td>F</td>\n",
       "      <td>M</td>\n",
       "      <td>26</td>\n",
       "      <td>0</td>\n",
       "      <td>&lt;18</td>\n",
       "      <td>M</td>\n",
       "      <td>BLACK</td>\n",
       "      <td>996342</td>\n",
       "      <td>236149</td>\n",
       "      <td>40.814845</td>\n",
       "      <td>-73.956312</td>\n",
       "      <td>POINT (-73.956312 40.814845)</td>\n",
       "      <td>0</td>\n",
       "    </tr>\n",
       "    <tr>\n",
       "      <th>1</th>\n",
       "      <td>279805419</td>\n",
       "      <td>01/02/2024</td>\n",
       "      <td>157.0</td>\n",
       "      <td>RAPE 1</td>\n",
       "      <td>104.0</td>\n",
       "      <td>RAPE</td>\n",
       "      <td>PL 1303501</td>\n",
       "      <td>F</td>\n",
       "      <td>K</td>\n",
       "      <td>77</td>\n",
       "      <td>0</td>\n",
       "      <td>25-44</td>\n",
       "      <td>M</td>\n",
       "      <td>WHITE HISPANIC</td>\n",
       "      <td>1003509</td>\n",
       "      <td>185018</td>\n",
       "      <td>40.674496</td>\n",
       "      <td>-73.930571</td>\n",
       "      <td>POINT (-73.9305713255961 40.6744956865259)</td>\n",
       "      <td>2</td>\n",
       "    </tr>\n",
       "    <tr>\n",
       "      <th>2</th>\n",
       "      <td>279895750</td>\n",
       "      <td>01/03/2024</td>\n",
       "      <td>101.0</td>\n",
       "      <td>ASSAULT 3</td>\n",
       "      <td>344.0</td>\n",
       "      <td>ASSAULT 3 &amp; RELATED OFFENSES</td>\n",
       "      <td>PL 1200001</td>\n",
       "      <td>M</td>\n",
       "      <td>Q</td>\n",
       "      <td>106</td>\n",
       "      <td>0</td>\n",
       "      <td>65+</td>\n",
       "      <td>F</td>\n",
       "      <td>WHITE</td>\n",
       "      <td>1026836</td>\n",
       "      <td>180689</td>\n",
       "      <td>40.662526</td>\n",
       "      <td>-73.846499</td>\n",
       "      <td>POINT (-73.846499 40.662526)</td>\n",
       "      <td>4</td>\n",
       "    </tr>\n",
       "    <tr>\n",
       "      <th>3</th>\n",
       "      <td>280809090</td>\n",
       "      <td>01/19/2024</td>\n",
       "      <td>511.0</td>\n",
       "      <td>CONTROLLED SUBSTANCE, POSSESSI</td>\n",
       "      <td>235.0</td>\n",
       "      <td>DANGEROUS DRUGS</td>\n",
       "      <td>PL 2200300</td>\n",
       "      <td>M</td>\n",
       "      <td>B</td>\n",
       "      <td>49</td>\n",
       "      <td>0</td>\n",
       "      <td>45-64</td>\n",
       "      <td>M</td>\n",
       "      <td>BLACK</td>\n",
       "      <td>1027430</td>\n",
       "      <td>251104</td>\n",
       "      <td>40.855793</td>\n",
       "      <td>-73.843908</td>\n",
       "      <td>POINT (-73.843908 40.855793)</td>\n",
       "      <td>3</td>\n",
       "    </tr>\n",
       "    <tr>\n",
       "      <th>4</th>\n",
       "      <td>280357135</td>\n",
       "      <td>01/11/2024</td>\n",
       "      <td>109.0</td>\n",
       "      <td>ASSAULT 2,1,UNCLASSIFIED</td>\n",
       "      <td>106.0</td>\n",
       "      <td>FELONY ASSAULT</td>\n",
       "      <td>PL 1200502</td>\n",
       "      <td>F</td>\n",
       "      <td>K</td>\n",
       "      <td>81</td>\n",
       "      <td>2</td>\n",
       "      <td>25-44</td>\n",
       "      <td>F</td>\n",
       "      <td>BLACK</td>\n",
       "      <td>1002457</td>\n",
       "      <td>192292</td>\n",
       "      <td>40.694456</td>\n",
       "      <td>-73.934343</td>\n",
       "      <td>POINT (-73.934343 40.694456)</td>\n",
       "      <td>2</td>\n",
       "    </tr>\n",
       "  </tbody>\n",
       "</table>\n",
       "</div>"
      ],
      "text/plain": [
       "   ARREST_KEY ARREST_DATE  PD_CD                         PD_DESC  KY_CD  \\\n",
       "0   280255493  01/10/2024  397.0  ROBBERY,OPEN AREA UNCLASSIFIED  105.0   \n",
       "1   279805419  01/02/2024  157.0                          RAPE 1  104.0   \n",
       "2   279895750  01/03/2024  101.0                       ASSAULT 3  344.0   \n",
       "3   280809090  01/19/2024  511.0  CONTROLLED SUBSTANCE, POSSESSI  235.0   \n",
       "4   280357135  01/11/2024  109.0        ASSAULT 2,1,UNCLASSIFIED  106.0   \n",
       "\n",
       "                      OFNS_DESC    LAW_CODE LAW_CAT_CD ARREST_BORO  \\\n",
       "0                       ROBBERY  PL 1601001          F           M   \n",
       "1                          RAPE  PL 1303501          F           K   \n",
       "2  ASSAULT 3 & RELATED OFFENSES  PL 1200001          M           Q   \n",
       "3               DANGEROUS DRUGS  PL 2200300          M           B   \n",
       "4                FELONY ASSAULT  PL 1200502          F           K   \n",
       "\n",
       "   ARREST_PRECINCT  JURISDICTION_CODE AGE_GROUP PERP_SEX       PERP_RACE  \\\n",
       "0               26                  0       <18        M           BLACK   \n",
       "1               77                  0     25-44        M  WHITE HISPANIC   \n",
       "2              106                  0       65+        F           WHITE   \n",
       "3               49                  0     45-64        M           BLACK   \n",
       "4               81                  2     25-44        F           BLACK   \n",
       "\n",
       "   X_COORD_CD  Y_COORD_CD   Latitude  Longitude  \\\n",
       "0      996342      236149  40.814845 -73.956312   \n",
       "1     1003509      185018  40.674496 -73.930571   \n",
       "2     1026836      180689  40.662526 -73.846499   \n",
       "3     1027430      251104  40.855793 -73.843908   \n",
       "4     1002457      192292  40.694456 -73.934343   \n",
       "\n",
       "                     New Georeferenced Column  AGE_GROUP_ENCODED  \n",
       "0                POINT (-73.956312 40.814845)                  0  \n",
       "1  POINT (-73.9305713255961 40.6744956865259)                  2  \n",
       "2                POINT (-73.846499 40.662526)                  4  \n",
       "3                POINT (-73.843908 40.855793)                  3  \n",
       "4                POINT (-73.934343 40.694456)                  2  "
      ]
     },
     "execution_count": 24,
     "metadata": {},
     "output_type": "execute_result"
    }
   ],
   "source": [
    "values_to_keep = ['V', 'M', 'F']\n",
    "\n",
    "df = df[df['LAW_CAT_CD'].isin(values_to_keep)]\n",
    "df.head()"
   ]
  },
  {
   "cell_type": "markdown",
   "metadata": {},
   "source": [
    "## Data analysis\n",
    "Place your **data analysis** code and documentation within this section.\n",
    "- Perform at least 5 different statistical or other analyses of different aspects of the data.\n",
    "    - Your analyses must be specific and relevant to your chosen data set and show interesting aspects of it.\n",
    "    - Include at least one analysis that includes grouping rows by a shared attribute and performing some kind of statistical analysis on each group.\n",
    "    - Sort the data in at least 1 of your analyses, but sort on its own does not constitute an analysis on its own.\n",
    "- Keep each of your Code cells short and focused on a single task.\n",
    "- Include a Markdown cell above each Code cell that describes what task the code within the Code cell is performing.\n",
    "- Make as many code cells as you need to complete the analysis - a few have been created for you to start with."
   ]
  },
  {
   "cell_type": "markdown",
   "metadata": {},
   "source": [
    "### 1. Groups based on AGE_GROUP_ENCODED and finds the total number of LAW_CAT_CDs in each group and then sorts them by number."
   ]
  },
  {
   "cell_type": "code",
   "execution_count": 25,
   "metadata": {},
   "outputs": [
    {
     "data": {
      "text/plain": [
       "AGE_GROUP_ENCODED  LAW_CAT_CD\n",
       "2                  M             21257\n",
       "                   F             15039\n",
       "3                  M              7438\n",
       "1                  M              5669\n",
       "                   F              4840\n",
       "3                  F              4640\n",
       "0                  F              1742\n",
       "4                  M               630\n",
       "0                  M               582\n",
       "2                  V               551\n",
       "4                  F               389\n",
       "3                  V               128\n",
       "1                  V                86\n",
       "4                  V                10\n",
       "Name: LAW_CAT_CD, dtype: int64"
      ]
     },
     "execution_count": 25,
     "metadata": {},
     "output_type": "execute_result"
    }
   ],
   "source": [
    "law_cat_counts = df.groupby('AGE_GROUP_ENCODED')['LAW_CAT_CD'].value_counts().sort_values(ascending=False)\n",
    "law_cat_counts"
   ]
  },
  {
   "cell_type": "markdown",
   "metadata": {},
   "source": [
    "### 2. Find the arresting district with the most offenders and show the specific name of the arresting district."
   ]
  },
  {
   "cell_type": "code",
   "execution_count": 26,
   "metadata": {},
   "outputs": [
    {
     "name": "stdout",
     "output_type": "stream",
     "text": [
      "Brooklyn : 17306\n"
     ]
    }
   ],
   "source": [
    "boro_counts = df['ARREST_BORO'].value_counts()\n",
    "\n",
    "most_common_boro = boro_counts.idxmax()\n",
    "most_common_boro_count = boro_counts.max()\n",
    "\n",
    "boro_mapping = {\n",
    "'B':'Bronx', \n",
    "'S':'Staten Island', \n",
    "'K':'Brooklyn', \n",
    "'M':'Manhattan', \n",
    "'Q':'Queens'\n",
    "}\n",
    "\n",
    "most_common_boro_mapped = boro_mapping[most_common_boro]\n",
    "print(most_common_boro_mapped,':', most_common_boro_count)"
   ]
  },
  {
   "cell_type": "markdown",
   "metadata": {},
   "source": [
    "### 3. Grouped according to age and counted the gender with the highest number of offenses within each group."
   ]
  },
  {
   "cell_type": "code",
   "execution_count": 27,
   "metadata": {},
   "outputs": [
    {
     "name": "stdout",
     "output_type": "stream",
     "text": [
      "                  Max Gender  Max Count\n",
      "AGE_GROUP_ENCODED                      \n",
      "0                          M       1917\n",
      "1                          M       8612\n",
      "2                          M      30203\n",
      "3                          M      10287\n",
      "4                          M        880\n"
     ]
    }
   ],
   "source": [
    "sex_counts = df.groupby('AGE_GROUP_ENCODED')['PERP_SEX'].value_counts().unstack()\n",
    "\n",
    "sex_counts_max = sex_counts.max(axis=1)\n",
    "\n",
    "sex_counts_max_gender = sex_counts.idxmax(axis=1)\n",
    "\n",
    "result_df = pd.DataFrame({\n",
    "    'Max Gender': sex_counts_max_gender,\n",
    "    'Max Count': sex_counts_max\n",
    "})\n",
    "\n",
    "print(result_df)"
   ]
  },
  {
   "cell_type": "markdown",
   "metadata": {},
   "source": [
    "### 4. Group by gender and race and calculate the average of the number of races."
   ]
  },
  {
   "cell_type": "code",
   "execution_count": 28,
   "metadata": {},
   "outputs": [
    {
     "name": "stdout",
     "output_type": "stream",
     "text": [
      "PERP_SEX\n",
      "F    1586\n",
      "M    7414\n",
      "dtype: int64\n"
     ]
    }
   ],
   "source": [
    "group_sizes = df.groupby(['PERP_SEX', 'PERP_RACE']).size()\n",
    "\n",
    "race_count_average = group_sizes.groupby(level=0).mean()\n",
    "\n",
    "race_count_average_rounded = race_count_average.round(0).astype(int)\n",
    "\n",
    "print(race_count_average_rounded)"
   ]
  },
  {
   "cell_type": "markdown",
   "metadata": {},
   "source": [
    "### 5. Proportion of crimes with a misdemeanor level when the arrest area is Manhattan."
   ]
  },
  {
   "cell_type": "code",
   "execution_count": 29,
   "metadata": {},
   "outputs": [
    {
     "name": "stdout",
     "output_type": "stream",
     "text": [
      "In the data where 'ARREST_BORO' is 'M', the proportion of 'LAW_CAT_CD' that is 'M' is: 56.36%\n"
     ]
    }
   ],
   "source": [
    "group_counts = df.groupby(['ARREST_BORO', 'LAW_CAT_CD']).size()\n",
    "\n",
    "manhattan_counts = group_counts['M']\n",
    "\n",
    "misdemeanor_ratio = manhattan_counts.get('M', 0) / manhattan_counts.sum()\n",
    "\n",
    "print(f\"In the data where 'ARREST_BORO' is 'M', the proportion of 'LAW_CAT_CD' that is 'M' is: {misdemeanor_ratio:.2%}\")"
   ]
  },
  {
   "cell_type": "markdown",
   "metadata": {},
   "source": [
    "## Data visualization\n",
    "In this section, you will create a few **visualizations** that show some of the insights you have gathered from this data.\n",
    "- Create at least 5 different visualizations, where each visualization shows different insights into the data.\n",
    "- Use at least 3 different visualization types (e.g. bar charts, line charts, stacked area charts, pie charts, etc)\n",
    "- Create a Markdown cell and a Code cell for each, where you explain and show the visualizations, respectively.\n",
    "- Create as many additional cells as you need to prepare the data for the visualizations."
   ]
  },
  {
   "cell_type": "markdown",
   "metadata": {},
   "source": [
    "### 1. Draw bar charts based on the column LAW_CAT_CD"
   ]
  },
  {
   "cell_type": "code",
   "execution_count": 30,
   "metadata": {},
   "outputs": [
    {
     "data": {
      "image/png": "[encoded data removed]",
      "text/plain": [
       "<Figure size 640x480 with 1 Axes>"
      ]
     },
     "metadata": {},
     "output_type": "display_data"
    }
   ],
   "source": [
    "law_cat_counts = df['LAW_CAT_CD'].value_counts()\n",
    "\n",
    "law_cat_counts.plot(kind='bar')\n",
    "\n",
    "plt.title('Frequency of Legal Categories')\n",
    "plt.xlabel('Legal Category (LAW_CAT_CD)')\n",
    "plt.ylabel('Frequency')\n",
    "\n",
    "plt.show()"
   ]
  },
  {
   "cell_type": "markdown",
   "metadata": {},
   "source": [
    "### 2. Draw pie charts using the column PERP_RACE"
   ]
  },
  {
   "cell_type": "code",
   "execution_count": 33,
   "metadata": {},
   "outputs": [
    {
     "data": {
      "image/png": "[encoded data removed]",
      "text/plain": [
       "<Figure size 640x480 with 1 Axes>"
      ]
     },
     "metadata": {},
     "output_type": "display_data"
    }
   ],
   "source": [
    "race_counts = df['PERP_SEX'].value_counts()\n",
    "\n",
    "race_counts.plot(kind='pie', autopct='%1.1f%%', startangle=90, shadow=True)\n",
    "\n",
    "plt.axis('equal')\n",
    "\n",
    "plt.ylabel('')  \n",
    "\n",
    "plt.show()"
   ]
  },
  {
   "cell_type": "markdown",
   "metadata": {},
   "source": [
    "### 3. Draw line charts according to the column AGE_GROUP_ENCODED"
   ]
  },
  {
   "cell_type": "code",
   "execution_count": 39,
   "metadata": {},
   "outputs": [
    {
     "data": {
      "image/png": "[encoded data removed]",
      "text/plain": [
       "<Figure size 640x480 with 1 Axes>"
      ]
     },
     "metadata": {},
     "output_type": "display_data"
    }
   ],
   "source": [
    "age_group_counts = df['AGE_GROUP_ENCODED'].value_counts().sort_index()\n",
    "\n",
    "age_group_counts.plot(kind='line', marker='o')\n",
    "\n",
    "plt.title('Count of Each Age Group Encoded')\n",
    "plt.xlabel('Age Group Encoded')\n",
    "plt.ylabel('Frequency')\n",
    "\n",
    "plt.xticks(range(int(age_group_counts.index.min()), int(age_group_counts.index.max()) + 1))\n",
    "\n",
    "plt.show()"
   ]
  },
  {
   "cell_type": "markdown",
   "metadata": {},
   "source": [
    "### 4. Based on the racial groupings, calculate the number of genders in each race and draw bar charts."
   ]
  },
  {
   "cell_type": "code",
   "execution_count": 40,
   "metadata": {},
   "outputs": [
    {
     "data": {
      "image/png": "[encoded data removed]",
      "text/plain": [
       "<Figure size 640x480 with 1 Axes>"
      ]
     },
     "metadata": {},
     "output_type": "display_data"
    }
   ],
   "source": [
    "sex_by_race = df.groupby(['PERP_RACE', 'PERP_SEX']).size().unstack(fill_value=0)\n",
    "\n",
    "sex_by_race.plot(kind='bar', stacked=True) \n",
    "\n",
    "plt.title('Gender Distribution by Race')\n",
    "plt.xlabel('Race')\n",
    "plt.ylabel('Count')\n",
    "\n",
    "plt.legend(title='Gender')\n",
    "\n",
    "plt.show()"
   ]
  },
  {
   "cell_type": "markdown",
   "metadata": {},
   "source": [
    "### 5. Plot bar charts by grouping by arrest area and calculating the total age distribution within the different areas.### 5. "
   ]
  },
  {
   "cell_type": "code",
   "execution_count": 42,
   "metadata": {},
   "outputs": [
    {
     "data": {
      "image/png": "[encoded data removed]",
      "text/plain": [
       "<Figure size 640x480 with 1 Axes>"
      ]
     },
     "metadata": {},
     "output_type": "display_data"
    }
   ],
   "source": [
    "age_distribution_by_boro = df.groupby(['ARREST_BORO', 'AGE_GROUP']).size().unstack(fill_value=0)\n",
    "\n",
    "age_distribution_by_boro.plot(kind='bar', stacked=True) \n",
    "\n",
    "plt.title('Age Distribution by Borough')\n",
    "plt.xlabel('Borough')\n",
    "plt.ylabel('Count')\n",
    "\n",
    "plt.legend(title='Age Group')\n",
    "\n",
    "plt.show()"
   ]
  }
 ],
 "metadata": {
  "kernelspec": {
   "display_name": "Python 3 (ipykernel)",
   "language": "python",
   "name": "python3"
  },
  "language_info": {
   "codemirror_mode": {
    "name": "ipython",
    "version": 3
   },
   "file_extension": ".py",
   "mimetype": "text/x-python",
   "name": "python",
   "nbconvert_exporter": "python",
   "pygments_lexer": "ipython3",
   "version": "3.10.9"
  }
 },
 "nbformat": 4,
 "nbformat_minor": 4
}
